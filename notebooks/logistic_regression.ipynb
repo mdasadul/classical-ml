{
 "cells": [
  {
   "cell_type": "markdown",
   "metadata": {},
   "source": [
    "# Logistic Regression\n",
    "\n",
    "The dataset was obtained from https://archive.ics.uci.edu/ml/datasets/gene+expression+cancer+RNA-Seq"
   ]
  },
  {
   "cell_type": "code",
   "execution_count": 1,
   "metadata": {},
   "outputs": [],
   "source": [
    "import numpy as np\n",
    "import pandas as pd"
   ]
  },
  {
   "cell_type": "code",
   "execution_count": 2,
   "metadata": {},
   "outputs": [
    {
     "name": "stdout",
     "output_type": "stream",
     "text": [
      "<class 'pandas.core.frame.DataFrame'>\n",
      "RangeIndex: 801 entries, 0 to 800\n",
      "Columns: 20531 entries, gene_0 to gene_20530\n",
      "dtypes: float64(20531)\n",
      "memory usage: 125.5 MB\n",
      "None\n"
     ]
    }
   ],
   "source": [
    "data = pd.read_csv('../datasets/pancan-rna-seq/data.csv')\n",
    "data = data.iloc[:, 1:]\n",
    "print(data.info())\n",
    "data = data.values"
   ]
  },
  {
   "cell_type": "code",
   "execution_count": 3,
   "metadata": {},
   "outputs": [
    {
     "name": "stdout",
     "output_type": "stream",
     "text": [
      "<class 'pandas.core.frame.DataFrame'>\n",
      "RangeIndex: 801 entries, 0 to 800\n",
      "Data columns (total 1 columns):\n",
      "Class    801 non-null object\n",
      "dtypes: object(1)\n",
      "memory usage: 6.3+ KB\n",
      "None\n"
     ]
    }
   ],
   "source": [
    "labels = pd.read_csv('../datasets/pancan-rna-seq/labels.csv')\n",
    "labels = labels.iloc[:, 1:]\n",
    "print(labels.info())\n",
    "labels = labels.values.flatten()\n",
    "# pre-processing data by encoding string labels to integers\n",
    "label2id = {\n",
    "    'BRCA' : 0,\n",
    "    'COAD' : 1,\n",
    "    'KIRC' : 2,\n",
    "    'LUAD' : 3,\n",
    "    'PRAD' : 4\n",
    "}\n",
    "labels = np.array([label2id[label] for label in labels])"
   ]
  },
  {
   "cell_type": "code",
   "execution_count": 4,
   "metadata": {},
   "outputs": [],
   "source": [
    "class LogisticRegression:\n",
    "    def __init__(self, X, Y, N):\n",
    "        self.N = N\n",
    "        # feature averages for respective labels\n",
    "        self.f_avg = np.array([X[Y == label].mean(axis=0) for label in np.unique(Y)])\n",
    "        # size of weights array must be equal to the number of features\n",
    "        self.weights = np.random.random([1, X.shape[1]])\n",
    "        self.bias = 0\n",
    "        self.train(X,Y)\n",
    "    \n",
    "    def features(self, x):\n",
    "        # feature vector of a datapoint is its projection on the feature averages\n",
    "        return ((self.f_avg.T * np.diag(x.dot(self.f_avg.T)/\n",
    "                                              self.f_avg.dot(self.f_avg.T))).T)\n",
    "\n",
    "    def train(self, X, Y):\n",
    "        for _ in range(self.N):\n",
    "            # process each data point\n",
    "            for i in range(X.shape[0]):\n",
    "                Yi_hat = int(self.predict(X[i,:]))\n",
    "                # check if incorrect\n",
    "                if Y[i] != Yi_hat:\n",
    "                    # update parameters\n",
    "                    self.weights += Y[i] * X[i,:]\n",
    "                    self.bias += Y[i]\n",
    "\n",
    "    def predict_batch(self, X):\n",
    "        return np.array([self.predict(x) for x in X])\n",
    "    \n",
    "    def predict(self, x):\n",
    "        # decision rule: argmax_y[exp(w.f(x,y)^T) / sum_y(exp(w.f(x,y)^T))]\n",
    "        w_f = self.weights.dot(self.features(x).T)\n",
    "        # normalizing w_f because of overflow error\n",
    "        w_f = np.exp(w_f / w_f.sum())\n",
    "        return np.argmax(w_f)\n",
    "\n",
    "    def calculate_accuracy(self, X_test, Y_test):\n",
    "        Y_pred = self.predict_batch(X_test)\n",
    "        return np.sum(np.equal(Y_pred, Y_test), dtype=float) / len(Y_test)"
   ]
  },
  {
   "cell_type": "code",
   "execution_count": 6,
   "metadata": {},
   "outputs": [
    {
     "name": "stdout",
     "output_type": "stream",
     "text": [
      "Accuracy:  0.9800995024875622\n",
      "CPU times: user 1.52 s, sys: 345 ms, total: 1.86 s\n",
      "Wall time: 1.05 s\n"
     ]
    }
   ],
   "source": [
    "%%time\n",
    "# 75-25% split\n",
    "train_len = 600\n",
    "log_reg = LogisticRegression(data[:train_len], labels[:train_len], 1)\n",
    "print(\"Accuracy: \", log_reg.calculate_accuracy(data[train_len:], labels[train_len:]))"
   ]
  }
 ],
 "metadata": {
  "kernelspec": {
   "display_name": "Python 3",
   "language": "python",
   "name": "python3"
  },
  "language_info": {
   "codemirror_mode": {
    "name": "ipython",
    "version": 3
   },
   "file_extension": ".py",
   "mimetype": "text/x-python",
   "name": "python",
   "nbconvert_exporter": "python",
   "pygments_lexer": "ipython3",
   "version": "3.5.5"
  }
 },
 "nbformat": 4,
 "nbformat_minor": 2
}
