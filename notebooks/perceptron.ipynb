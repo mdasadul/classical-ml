{
 "cells": [
  {
   "cell_type": "markdown",
   "metadata": {},
   "source": [
    "# Perceptron\n",
    "\n",
    "The dataset was obtained from https://archive.ics.uci.edu/ml/datasets/Iris."
   ]
  },
  {
   "cell_type": "code",
   "execution_count": 3,
   "metadata": {},
   "outputs": [],
   "source": [
    "import numpy as np\n",
    "import pandas as pd"
   ]
  },
  {
   "cell_type": "code",
   "execution_count": 60,
   "metadata": {},
   "outputs": [
    {
     "name": "stdout",
     "output_type": "stream",
     "text": [
      "<class 'pandas.core.frame.DataFrame'>\n",
      "RangeIndex: 801 entries, 0 to 800\n",
      "Columns: 20531 entries, gene_0 to gene_20530\n",
      "dtypes: float64(20531)\n",
      "memory usage: 125.5 MB\n",
      "None\n"
     ]
    }
   ],
   "source": [
    "data = pd.read_csv('../datasets/pancan-rna-seq/data.csv')\n",
    "data = data.iloc[:, 1:]\n",
    "print(data.info())\n",
    "data = data.values"
   ]
  },
  {
   "cell_type": "code",
   "execution_count": 66,
   "metadata": {},
   "outputs": [
    {
     "name": "stdout",
     "output_type": "stream",
     "text": [
      "<class 'pandas.core.frame.DataFrame'>\n",
      "RangeIndex: 801 entries, 0 to 800\n",
      "Data columns (total 1 columns):\n",
      "Class    801 non-null object\n",
      "dtypes: object(1)\n",
      "memory usage: 6.3+ KB\n",
      "None\n"
     ]
    }
   ],
   "source": [
    "labels = pd.read_csv('../datasets/pancan-rna-seq/labels.csv')\n",
    "labels = labels.iloc[:, 1:]\n",
    "print(labels.info())\n",
    "labels = labels.values.flatten()\n",
    "label2id = {\n",
    "    'BRCA' : 1,\n",
    "    'COAD' : 2,\n",
    "    'KIRC' : 3,\n",
    "    'LUAD' : 4,\n",
    "    'PRAD' : 5\n",
    "}\n",
    "labels = np.array([label2id[label] for label in labels])"
   ]
  },
  {
   "cell_type": "code",
   "execution_count": 77,
   "metadata": {},
   "outputs": [],
   "source": [
    "class Perceptron:\n",
    "    def __init__(self, X, Y, N):\n",
    "        self.N = N\n",
    "        # size of weights array must be equal to the number of features\n",
    "        self.weights = np.zeros([1, X.shape[1]])\n",
    "        self.bias = 0\n",
    "        # setting average parameters\n",
    "        self.avg_weights = np.zeros([1, X.shape[1]])\n",
    "        self.avg_bias = 0\n",
    "        self.train(X,Y)\n",
    "\n",
    "    def parameter_averaging(self):\n",
    "        self.weights = self.avg_weights\n",
    "        self.bias = self.avg_bias\n",
    "        return\n",
    "\n",
    "    def train(self, X, Y):\n",
    "        c = 0\n",
    "        for _ in range(self.N):\n",
    "            # process each data point\n",
    "            for i in range(X.shape[0]):\n",
    "                Yi_hat = int(self.predict(X[i,:]))\n",
    "                # check if incorrect\n",
    "                if Y[i] != Yi_hat:\n",
    "                    # update non-averaged parameters\n",
    "                    self.weights += Y[i] * X[i,:]\n",
    "                    self.bias += Y[i]\n",
    "                    # update averaged parameters\n",
    "                    self.avg_weights += c * Y[i] * X[i,:]\n",
    "                    self.avg_bias += c * Y[i]\n",
    "                c += 1\n",
    "        self.avg_weights = self.weights - self.avg_weights*1./c\n",
    "        self.avg_bias = self.bias - self.avg_bias*1./c  \n",
    "        return\n",
    "\n",
    "    def predict(self, X):\n",
    "        # decision rule (X . wT + b) > 0 \n",
    "        # from (true, false) -> (1, 0) -> (1, -1)\n",
    "        return ((X.dot(self.weights.T) + self.bias > 0).astype(int) * 2.0 - 1).flatten()\n",
    "\n",
    "    def calculate_accuracy(self, X_test, Y_test):\n",
    "        Y_pred = self.predict(X_test)\n",
    "        return np.sum(np.equal(Y_pred, Y_test), dtype=float) / len(Y_test)"
   ]
  },
  {
   "cell_type": "code",
   "execution_count": 78,
   "metadata": {},
   "outputs": [
    {
     "name": "stdout",
     "output_type": "stream",
     "text": [
      "Accuracy:  0.4079601990049751\n"
     ]
    }
   ],
   "source": [
    "ptron = Perceptron(data[:600], labels[:600], 10)\n",
    "ptron.parameter_averaging()\n",
    "print(\"Accuracy: \", ptron.calculate_accuracy(data[600:], labels[600:]))"
   ]
  }
 ],
 "metadata": {
  "kernelspec": {
   "display_name": "Python 3",
   "language": "python",
   "name": "python3"
  },
  "language_info": {
   "codemirror_mode": {
    "name": "ipython",
    "version": 3
   },
   "file_extension": ".py",
   "mimetype": "text/x-python",
   "name": "python",
   "nbconvert_exporter": "python",
   "pygments_lexer": "ipython3",
   "version": "3.5.5"
  }
 },
 "nbformat": 4,
 "nbformat_minor": 2
}
