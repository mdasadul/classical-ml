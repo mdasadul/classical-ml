{
 "cells": [
  {
   "cell_type": "markdown",
   "metadata": {},
   "source": [
    "# Naive Bayes Classification\n",
    "\n",
    "The dataset was obtained from https://archive.ics.uci.edu/ml/datasets/SMS+Spam+Collection."
   ]
  },
  {
   "cell_type": "code",
   "execution_count": 1,
   "metadata": {},
   "outputs": [],
   "source": [
    "import numpy as np\n",
    "import pandas as pd\n",
    "import re\n",
    "import math\n",
    "from collections import Counter"
   ]
  },
  {
   "cell_type": "code",
   "execution_count": 2,
   "metadata": {},
   "outputs": [
    {
     "name": "stdout",
     "output_type": "stream",
     "text": [
      "<class 'pandas.core.frame.DataFrame'>\n",
      "RangeIndex: 5574 entries, 0 to 5573\n",
      "Data columns (total 2 columns):\n",
      "tag     5574 non-null object\n",
      "text    5574 non-null object\n",
      "dtypes: object(2)\n",
      "memory usage: 87.2+ KB\n",
      "None\n"
     ]
    },
    {
     "data": {
      "text/html": [
       "<div>\n",
       "<style scoped>\n",
       "    .dataframe tbody tr th:only-of-type {\n",
       "        vertical-align: middle;\n",
       "    }\n",
       "\n",
       "    .dataframe tbody tr th {\n",
       "        vertical-align: top;\n",
       "    }\n",
       "\n",
       "    .dataframe thead th {\n",
       "        text-align: right;\n",
       "    }\n",
       "</style>\n",
       "<table border=\"1\" class=\"dataframe\">\n",
       "  <thead>\n",
       "    <tr style=\"text-align: right;\">\n",
       "      <th></th>\n",
       "      <th>tag</th>\n",
       "      <th>text</th>\n",
       "    </tr>\n",
       "  </thead>\n",
       "  <tbody>\n",
       "    <tr>\n",
       "      <th>0</th>\n",
       "      <td>ham</td>\n",
       "      <td>Go until jurong point crazy.. Available only i...</td>\n",
       "    </tr>\n",
       "    <tr>\n",
       "      <th>1</th>\n",
       "      <td>ham</td>\n",
       "      <td>Ok lar... Joking wif u oni...</td>\n",
       "    </tr>\n",
       "    <tr>\n",
       "      <th>2</th>\n",
       "      <td>spam</td>\n",
       "      <td>Free entry in 2 a wkly comp to win FA Cup fina...</td>\n",
       "    </tr>\n",
       "    <tr>\n",
       "      <th>3</th>\n",
       "      <td>ham</td>\n",
       "      <td>U dun say so early hor... U c already then say...</td>\n",
       "    </tr>\n",
       "    <tr>\n",
       "      <th>4</th>\n",
       "      <td>ham</td>\n",
       "      <td>Nah I don't think he goes to usf he lives arou...</td>\n",
       "    </tr>\n",
       "  </tbody>\n",
       "</table>\n",
       "</div>"
      ],
      "text/plain": [
       "    tag                                               text\n",
       "0   ham  Go until jurong point crazy.. Available only i...\n",
       "1   ham                      Ok lar... Joking wif u oni...\n",
       "2  spam  Free entry in 2 a wkly comp to win FA Cup fina...\n",
       "3   ham  U dun say so early hor... U c already then say...\n",
       "4   ham  Nah I don't think he goes to usf he lives arou..."
      ]
     },
     "execution_count": 2,
     "metadata": {},
     "output_type": "execute_result"
    }
   ],
   "source": [
    "# read data and parse it\n",
    "data = pd.read_csv('../datasets/sms_spam.csv', names=['tag', 'text'])\n",
    "data.text = [str(doc) for doc in data['text']]\n",
    "print(data.info())\n",
    "data.head()"
   ]
  },
  {
   "cell_type": "code",
   "execution_count": 3,
   "metadata": {},
   "outputs": [],
   "source": [
    "# Splitting data 80 % train, 20 % test\n",
    "train_df = data.iloc[:4458, :]\n",
    "test_df = data.iloc[4459:, :]"
   ]
  },
  {
   "cell_type": "code",
   "execution_count": 8,
   "metadata": {},
   "outputs": [],
   "source": [
    "class NaiveBayesText:\n",
    "    \n",
    "    def __init__(self, train_df):\n",
    "        \"\"\"\n",
    "        train_df (pandas.DataFrame) : Training dataset\n",
    "        train_df must have a column called 'tag' representing the output class,\n",
    "            and a column called 'text'\n",
    "        \"\"\"\n",
    "        self.train_df = train_df\n",
    "        # pre-processing to remove punctuations\n",
    "        # check if data hasn't already been pre-processed due to Jupyter cache issues\n",
    "        if type(self.train_df.text.values[0]) == 'str':\n",
    "            self.train_df['text'] = [\n",
    "                re.sub('\\)|\\(|\\.|,', '', doc).split() \n",
    "                for doc in train_df.text.values]\n",
    "        self.tags = list(set(train_df.tag.values))\n",
    "        self.tag_probs = {tag: len(train_df.loc[train_df['tag'] == tag])/len(train_df)\n",
    "                         for tag in self.tags}\n",
    "        self.total_vocabulary_size = len(set(self.get_vocabulary(self.train_df)))\n",
    "        self.tag_vocabulary_counts = {tag : Counter(self.get_vocabulary(\n",
    "            self.train_df.loc[self.train_df['tag'] == tag])) for tag in self.tags}\n",
    "    \n",
    "    def get_vocabulary(self, df):\n",
    "        vocabulary = []\n",
    "        for doc_list in df.text.values:\n",
    "            for word in doc_list:\n",
    "                vocabulary.append(word)\n",
    "        return vocabulary\n",
    "\n",
    "    def prob_doc_given_tag(self, doc, tag, alpha):\n",
    "        prob_words = np.array([self.prob_word_given_tag(word, tag, alpha) \n",
    "                               for word in doc.split()])\n",
    "        return np.sum(prob_words) + math.log(self.tag_probs[tag])\n",
    "\n",
    "    def prob_word_given_tag(self, word, tag, alpha):\n",
    "        word_count = self.tag_vocabulary_counts[tag][word]\n",
    "        return math.log((word_count + alpha)/(len(self.tag_vocabulary_counts[tag]) + alpha * \n",
    "                                          self.total_vocabulary_size))\n",
    "\n",
    "    def predict_tag(self, doc, alpha):\n",
    "        prob_tags = np.array([self.prob_doc_given_tag(doc, tag, alpha) for tag in self.tags])\n",
    "        return self.tags[np.argmax(prob_tags)]\n",
    "    \n",
    "    def predict_batch(self, docs, alpha=1):\n",
    "        predict_tags = []\n",
    "        for doc in docs:\n",
    "            predict_tags.append(self.predict_tag(doc, alpha))        \n",
    "        return predict_tags"
   ]
  },
  {
   "cell_type": "code",
   "execution_count": 9,
   "metadata": {},
   "outputs": [],
   "source": [
    "def calculate_accuracy(y_hat, y):\n",
    "    return sum(1 for a, b in zip(y_hat,y) if a == b) / len(y)"
   ]
  },
  {
   "cell_type": "code",
   "execution_count": 10,
   "metadata": {
    "scrolled": true
   },
   "outputs": [
    {
     "name": "stdout",
     "output_type": "stream",
     "text": [
      "Test set accuracy: 85.561%\n",
      "CPU times: user 2.8 s, sys: 3.57 ms, total: 2.8 s\n",
      "Wall time: 2.8 s\n"
     ]
    }
   ],
   "source": [
    "%%time\n",
    "nbt = NaiveBayesText(train_df)\n",
    "y_hat = nbt.predict_batch(test_df['text'], alpha=10.)\n",
    "test_acc = calculate_accuracy(test_df['tag'], y_hat)\n",
    "print(\"Test set accuracy: {:1.3f}%\".format(test_acc * 100))"
   ]
  }
 ],
 "metadata": {
  "kernelspec": {
   "display_name": "Python 3",
   "language": "python",
   "name": "python3"
  },
  "language_info": {
   "codemirror_mode": {
    "name": "ipython",
    "version": 3
   },
   "file_extension": ".py",
   "mimetype": "text/x-python",
   "name": "python",
   "nbconvert_exporter": "python",
   "pygments_lexer": "ipython3",
   "version": "3.5.5"
  }
 },
 "nbformat": 4,
 "nbformat_minor": 2
}
